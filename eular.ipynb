{
 "cells": [
  {
   "cell_type": "code",
   "execution_count": 1,
   "metadata": {},
   "outputs": [],
   "source": [
    "import numpy as np\n",
    "import scipy.linalg as la\n",
    "import matplotlib.pyplot as plt\n",
    "import sympy as sm\n",
    "\n",
    "plt.style.use('ggplot')\n",
    "sm.init_printing(use_unicode=True)"
   ]
  },
  {
   "cell_type": "code",
   "execution_count": 2,
   "metadata": {},
   "outputs": [],
   "source": [
    "import itertools as it\n",
    "import fn\n",
    "import math\n",
    "from functools import reduce"
   ]
  },
  {
   "cell_type": "code",
   "execution_count": 3,
   "metadata": {},
   "outputs": [],
   "source": [
    "import sys, os"
   ]
  },
  {
   "cell_type": "code",
   "execution_count": 36,
   "metadata": {},
   "outputs": [],
   "source": [
    "def fab(n):\n",
    "    if n==0:\n",
    "        return 1\n",
    "    if n==1:\n",
    "        return 2\n",
    "    return fab(n-1) + fab(n-2)\n",
    "\n",
    "def fab_seq():\n",
    "    t1, t2 = 1, 2\n",
    "    yield t1\n",
    "    yield t2\n",
    "    while True:\n",
    "        t = t1+ t2\n",
    "        yield t\n",
    "        t1 = t2\n",
    "        t2 = t"
   ]
  },
  {
   "cell_type": "code",
   "execution_count": 40,
   "metadata": {},
   "outputs": [],
   "source": [
    "def is_prime(n):\n",
    "    return all(map(lambda x: n%x!=0, range(2, int(n**0.5)+1)))"
   ]
  },
  {
   "cell_type": "code",
   "execution_count": 55,
   "metadata": {},
   "outputs": [],
   "source": [
    "def is_palindrome(n):\n",
    "    s = str(n)\n",
    "    N = len(s)\n",
    "    return all(map(lambda x: s[x]== s[N-1-x], range(N// 2)))"
   ]
  },
  {
   "cell_type": "code",
   "execution_count": 119,
   "metadata": {},
   "outputs": [],
   "source": [
    "def enum_range(low, high= None):\n",
    "    i = low\n",
    "    while high is None or i< high:\n",
    "        yield i\n",
    "        i += 1"
   ]
  },
  {
   "cell_type": "code",
   "execution_count": 38,
   "metadata": {},
   "outputs": [],
   "source": [
    "info = '''\n",
    "75\n",
    "95 64\n",
    "17 47 82\n",
    "18 35 87 10\n",
    "20 04 82 47 65\n",
    "19 01 23 75 03 34\n",
    "88 02 77 73 07 63 67\n",
    "99 65 04 28 06 16 70 92\n",
    "41 41 26 56 83 40 80 70 33\n",
    "41 48 72 33 47 32 37 16 94 29\n",
    "53 71 44 65 25 43 91 52 97 51 14\n",
    "70 11 33 28 77 73 17 78 39 68 17 57\n",
    "91 71 52 38 17 14 91 43 58 50 27 29 48\n",
    "63 66 04 68 89 53 67 30 73 16 69 87 40 31\n",
    "04 62 98 27 23 09 70 98 73 93 38 53 60 04 23\n",
    "'''"
   ]
  },
  {
   "cell_type": "code",
   "execution_count": 39,
   "metadata": {},
   "outputs": [],
   "source": [
    "def to_list(line):\n",
    "    return list(map(int, line.strip().split()))\n",
    "\n",
    "pyramid = list(map(to_list, info.strip().split('\\n')))"
   ]
  },
  {
   "cell_type": "code",
   "execution_count": 40,
   "metadata": {},
   "outputs": [
    {
     "name": "stdout",
     "output_type": "stream",
     "text": [
      "[75]\n",
      "[95, 64]\n",
      "[17, 47, 82]\n",
      "[18, 35, 87, 10]\n",
      "[20, 4, 82, 47, 65]\n",
      "[19, 1, 23, 75, 3, 34]\n",
      "[88, 2, 77, 73, 7, 63, 67]\n",
      "[99, 65, 4, 28, 6, 16, 70, 92]\n",
      "[41, 41, 26, 56, 83, 40, 80, 70, 33]\n",
      "[41, 48, 72, 33, 47, 32, 37, 16, 94, 29]\n",
      "[53, 71, 44, 65, 25, 43, 91, 52, 97, 51, 14]\n",
      "[70, 11, 33, 28, 77, 73, 17, 78, 39, 68, 17, 57]\n",
      "[91, 71, 52, 38, 17, 14, 91, 43, 58, 50, 27, 29, 48]\n",
      "[63, 66, 4, 68, 89, 53, 67, 30, 73, 16, 69, 87, 40, 31]\n",
      "[4, 62, 98, 27, 23, 9, 70, 98, 73, 93, 38, 53, 60, 4, 23]\n"
     ]
    }
   ],
   "source": [
    "def print_pyramid(py):\n",
    "    for line in py:\n",
    "        print(line)\n",
    "        \n",
    "print_pyramid(pyramid)"
   ]
  },
  {
   "cell_type": "code",
   "execution_count": 41,
   "metadata": {},
   "outputs": [],
   "source": [
    "def path_sum(py):\n",
    "    N = len(py)\n",
    "    if N== 1:\n",
    "        return py[0][0]\n",
    "    \n",
    "    for i in range(N-1):\n",
    "        py[-2][i] += max(py[-1][i], py[-1][i+1])\n",
    "        \n",
    "    del py[-1]\n",
    "    \n",
    "    return path_sum(py)"
   ]
  },
  {
   "cell_type": "code",
   "execution_count": 42,
   "metadata": {},
   "outputs": [
    {
     "data": {
      "text/plain": [
       "1074"
      ]
     },
     "execution_count": 42,
     "metadata": {},
     "output_type": "execute_result"
    }
   ],
   "source": [
    "path_sum(pyramid)"
   ]
  },
  {
   "cell_type": "code",
   "execution_count": 20,
   "metadata": {},
   "outputs": [],
   "source": [
    "# 1901.01.01 to 2000.12.31, 1900.01.01 monday."
   ]
  },
  {
   "cell_type": "code",
   "execution_count": 50,
   "metadata": {},
   "outputs": [],
   "source": [
    "def count_days(year):\n",
    "    leap = (year% 400== 0) or (year% 100!= 0 and year% 4== 0)\n",
    "    return 366 if leap else 365"
   ]
  },
  {
   "cell_type": "code",
   "execution_count": 51,
   "metadata": {},
   "outputs": [
    {
     "data": {
      "text/plain": [
       "365"
      ]
     },
     "execution_count": 51,
     "metadata": {},
     "output_type": "execute_result"
    }
   ],
   "source": [
    "count_days(1900)"
   ]
  },
  {
   "cell_type": "code",
   "execution_count": 65,
   "metadata": {},
   "outputs": [
    {
     "data": {
      "text/plain": [
       "5217"
      ]
     },
     "execution_count": 65,
     "metadata": {},
     "output_type": "execute_result"
    }
   ],
   "source": [
    "sum(map(count_days, range(1901, 2001))) // 7"
   ]
  },
  {
   "cell_type": "code",
   "execution_count": 68,
   "metadata": {},
   "outputs": [
    {
     "data": {
      "text/plain": [
       "648"
      ]
     },
     "execution_count": 68,
     "metadata": {},
     "output_type": "execute_result"
    }
   ],
   "source": [
    "sum(map(int, str(math.factorial(100))))"
   ]
  },
  {
   "cell_type": "code",
   "execution_count": 99,
   "metadata": {},
   "outputs": [
    {
     "data": {
      "text/plain": [
       "64497254400"
      ]
     },
     "execution_count": 99,
     "metadata": {},
     "output_type": "execute_result"
    }
   ],
   "source": [
    "n = 13\n",
    "rows, cols = len(arr), len(arr[0])\n",
    "mul = 0\n",
    "rr, cc = -1, -1\n",
    "h = False\n",
    "\n",
    "for r in range(0, rows):\n",
    "    for c in range(0, cols- n+ 1):\n",
    "        num = reduce(lambda x, i: x* arr[r][c+ i], range(13), 1)\n",
    "        if num> mul:\n",
    "            mul = num\n",
    "            rr, cc = r, c\n",
    "            h = True\n",
    "            \n",
    "for c in range(0, cols):\n",
    "    for r in range(0, rows- n+ 1):\n",
    "        num = reduce(lambda x, i: x* arr[r+ i][c], range(13), 1)\n",
    "        if num> mul:\n",
    "            mul = num\n",
    "            rr, cc = r, c\n",
    "            h = False\n",
    "mul"
   ]
  },
  {
   "cell_type": "code",
   "execution_count": 142,
   "metadata": {},
   "outputs": [],
   "source": [
    "def count_len(n):\n",
    "    c = 1\n",
    "    while n!=1:\n",
    "        n = n// 2 if n%2==0 else (n* 3+ 1)\n",
    "        c += 1\n",
    "    return c\n",
    "\n",
    "counts = [0, 1]\n",
    "for i in range(2, 1000000):\n",
    "    c = 0\n",
    "    n = i\n",
    "    while n >= len(counts) and n!=1:\n",
    "        n = n// 2 if n%2==0 else (n* 3+ 1)\n",
    "        c += 1\n",
    "    c += counts[n]\n",
    "    counts.append(c)"
   ]
  },
  {
   "cell_type": "code",
   "execution_count": 146,
   "metadata": {},
   "outputs": [
    {
     "data": {
      "text/plain": [
       "1366"
      ]
     },
     "execution_count": 146,
     "metadata": {},
     "output_type": "execute_result"
    }
   ],
   "source": [
    "sum([int(i) for i in str(2** 1000)])"
   ]
  },
  {
   "cell_type": "code",
   "execution_count": 140,
   "metadata": {},
   "outputs": [
    {
     "data": {
      "text/plain": [
       "20"
      ]
     },
     "execution_count": 140,
     "metadata": {},
     "output_type": "execute_result"
    }
   ],
   "source": [
    "max(counts)"
   ]
  },
  {
   "cell_type": "code",
   "execution_count": 108,
   "metadata": {},
   "outputs": [
    {
     "name": "stdout",
     "output_type": "stream",
     "text": [
      "200 375 425\n",
      "375 200 425\n"
     ]
    }
   ],
   "source": [
    "for a in range(1, 500):\n",
    "    for b in range(501-a, 500):\n",
    "        c2 = a**2+ b**2\n",
    "        if c2> 250000:\n",
    "            continue\n",
    "        c = int(c2**0.5)\n",
    "        if c**2== c2 and a+ b+ c== 1000:\n",
    "            print(a, b, c)\n",
    "            break"
   ]
  },
  {
   "cell_type": "code",
   "execution_count": 155,
   "metadata": {},
   "outputs": [
    {
     "data": {
      "text/plain": [
       "987654321"
      ]
     },
     "execution_count": 155,
     "metadata": {},
     "output_type": "execute_result"
    }
   ],
   "source": [
    "' '.join(''.join([str(c) for c in sorted([int(i) for i in str(123456789)], reverse=True)]))"
   ]
  },
  {
   "cell_type": "code",
   "execution_count": 168,
   "metadata": {},
   "outputs": [
    {
     "data": {
      "text/plain": [
       "'20 8 5 14 1 18 23 8 1 12 2 1 3 15 14 19 1 20 13 9 4 14 9 7 8 20'"
      ]
     },
     "execution_count": 168,
     "metadata": {},
     "output_type": "execute_result"
    }
   ],
   "source": [
    "a = \"The narwhal bacons at midnight.\"\n",
    "\n",
    "' '.join(map(lambda c: str(ord(c)-96), filter(lambda c: c>='a' and c<='z', a.lower())))"
   ]
  },
  {
   "cell_type": "code",
   "execution_count": 170,
   "metadata": {},
   "outputs": [
    {
     "data": {
      "text/plain": [
       "\u001b[0;31mSignature:\u001b[0m \u001b[0mstr\u001b[0m\u001b[0;34m.\u001b[0m\u001b[0misalpha\u001b[0m\u001b[0;34m(\u001b[0m\u001b[0mself\u001b[0m\u001b[0;34m,\u001b[0m \u001b[0;34m/\u001b[0m\u001b[0;34m)\u001b[0m\u001b[0;34m\u001b[0m\u001b[0;34m\u001b[0m\u001b[0m\n",
       "\u001b[0;31mDocstring:\u001b[0m\n",
       "Return True if the string is an alphabetic string, False otherwise.\n",
       "\n",
       "A string is alphabetic if all characters in the string are alphabetic and there\n",
       "is at least one character in the string.\n",
       "\u001b[0;31mType:\u001b[0m      method_descriptor\n"
      ]
     },
     "metadata": {},
     "output_type": "display_data"
    }
   ],
   "source": [
    "str.isalpha?"
   ]
  },
  {
   "cell_type": "code",
   "execution_count": 3,
   "metadata": {},
   "outputs": [
    {
     "data": {
      "text/plain": [
       "'num:  3.14'"
      ]
     },
     "execution_count": 3,
     "metadata": {},
     "output_type": "execute_result"
    }
   ],
   "source": [
    "f'num: {math.pi: 3.2f}'"
   ]
  },
  {
   "cell_type": "code",
   "execution_count": 2,
   "metadata": {},
   "outputs": [],
   "source": [
    "import re"
   ]
  },
  {
   "cell_type": "code",
   "execution_count": 3,
   "metadata": {},
   "outputs": [],
   "source": [
    "line = '(-1.32197  1.04304) -- 4.72147 --> (-1.31719 -1.12984) -- 0.351608 --> (-1.32166 -1.72279) -- 5.08508 --> (0.933341  -1.7154) -- 1.45472 --> ( 0.909586 -0.509516) -- 0.663482 --> (  1.72413 -0.509567) -- 2.45486 --> (1.73177 1.05721) -- 9.32554 --> '"
   ]
  },
  {
   "cell_type": "code",
   "execution_count": 4,
   "metadata": {},
   "outputs": [
    {
     "data": {
      "text/plain": [
       "'(-1.32197  1.04304) -- 4.72147 --> (-1.31719 -1.12984) -- 0.351608 --> (-1.32166 -1.72279) -- 5.08508 --> (0.933341  -1.7154) -- 1.45472 --> ( 0.909586 -0.509516) -- 0.663482 --> (  1.72413 -0.509567) -- 2.45486 --> (1.73177 1.05721) -- 9.32554 --> '"
      ]
     },
     "execution_count": 4,
     "metadata": {},
     "output_type": "execute_result"
    }
   ],
   "source": [
    "line"
   ]
  },
  {
   "cell_type": "code",
   "execution_count": 65,
   "metadata": {},
   "outputs": [],
   "source": [
    "lst = re.findall(r'\\(.*?\\)', line)\n",
    "points = np.array([[float(s) for s in re.split('\\s+', t[1:-1].strip())] for t in lst])"
   ]
  },
  {
   "cell_type": "code",
   "execution_count": 71,
   "metadata": {},
   "outputs": [
    {
     "data": {
      "image/png": "[encoded data removed]",
      "text/plain": [
       "<Figure size 432x288 with 1 Axes>"
      ]
     },
     "metadata": {
      "needs_background": "light"
     },
     "output_type": "display_data"
    }
   ],
   "source": [
    "plt.plot(points[:, 0], points[:, 1], 'o')\n",
    "for i, p in enumerate(points):\n",
    "    plt.text(p[0], p[1], str(i))"
   ]
  },
  {
   "cell_type": "code",
   "execution_count": 76,
   "metadata": {},
   "outputs": [],
   "source": [
    "def divisors(n):\n",
    "    if n>1: \n",
    "        yield 1\n",
    "        for i in range(2, (int)(n**0.5)+ 1):\n",
    "            if n% i==0:\n",
    "                yield i\n",
    "                yield n// i"
   ]
  },
  {
   "cell_type": "code",
   "execution_count": 78,
   "metadata": {},
   "outputs": [],
   "source": [
    "sums = list(map(sum, map(divisors, range(10000))))"
   ]
  },
  {
   "cell_type": "code",
   "execution_count": 89,
   "metadata": {},
   "outputs": [],
   "source": [
    "def is_amicable(n):\n",
    "    s = sums[n]\n",
    "    return s>0 and s<10000 and sums[s]==n and n!=s"
   ]
  },
  {
   "cell_type": "code",
   "execution_count": 90,
   "metadata": {},
   "outputs": [
    {
     "data": {
      "text/plain": [
       "[220, 284, 1184, 1210, 2620, 2924, 5020, 5564, 6232, 6368]"
      ]
     },
     "execution_count": 90,
     "metadata": {},
     "output_type": "execute_result"
    }
   ],
   "source": [
    "list(filter(is_amicable, range(10000)))"
   ]
  },
  {
   "cell_type": "code",
   "execution_count": 4,
   "metadata": {},
   "outputs": [],
   "source": [
    "from collections import namedtuple"
   ]
  },
  {
   "cell_type": "code",
   "execution_count": 33,
   "metadata": {},
   "outputs": [],
   "source": [
    "\n",
    "Student = namedtuple('Student', header)\n",
    "students = [Student(0, 'Ana', 'F', 159), Student(1, 'Ju', 'F', 167), ]"
   ]
  },
  {
   "cell_type": "code",
   "execution_count": 34,
   "metadata": {},
   "outputs": [
    {
     "data": {
      "text/plain": [
       "[Student(Id=0, Name='Ana', Sex='F', Height=159),\n",
       " Student(Id=1, Name='Ju', Sex='F', Height=167)]"
      ]
     },
     "execution_count": 34,
     "metadata": {},
     "output_type": "execute_result"
    }
   ],
   "source": [
    "students"
   ]
  },
  {
   "cell_type": "code",
   "execution_count": 30,
   "metadata": {},
   "outputs": [
    {
     "name": "stdout",
     "output_type": "stream",
     "text": [
      "+----------------------------------+\n",
      "| Name   Height(cm)   Sex   Weight |\n",
      "+==================================+\n",
      "| July   167          F     97J    |\n",
      "| Ana    159          F     94G    |\n",
      "+----------------------------------+\n"
     ]
    }
   ],
   "source": [
    "tt = Texttable()\n",
    "tt.set_deco(Texttable.BORDER | Texttable.HEADER)\n",
    "# tt.add_rows([[...], [...], [...], ...])\n",
    "tt.add_rows([['Name', 'Height(cm)', 'Sex', 'Weight'], ['July', 167, 'F', '97J'], ['Ana', 159, 'F', '94G']])\n",
    "\n",
    "print(tt.draw())"
   ]
  },
  {
   "cell_type": "code",
   "execution_count": 58,
   "metadata": {},
   "outputs": [
    {
     "name": "stdout",
     "output_type": "stream",
     "text": [
      "+-------------------------------------------+\n",
      "| Id   Name   Sex   Height(cm)   Weight(kg) |\n",
      "+===========================================+\n",
      "| 0    Ana    F     159          47         |\n",
      "| 1    Joe    F     167          52         |\n",
      "| 2    Tony   M     173          62         |\n",
      "+-------------------------------------------+\n"
     ]
    }
   ],
   "source": [
    "header = ['Id', 'Name', 'Sex', 'Height(cm)', 'Weight(kg)']\n",
    "students = [[0, 'Ana', 'F', 159, 47], [1, 'Joe', 'F', 167, 52], [2, 'Tony', 'M', 173, 62]]\n",
    "\n",
    "tt = Texttable()\n",
    "tt.set_deco(Texttable.BORDER | Texttable.HEADER)\n",
    "tt.add_rows([header])\n",
    "tt.add_rows(students, header=False)\n",
    "\n",
    "print(tt.draw())"
   ]
  },
  {
   "cell_type": "code",
   "execution_count": 16,
   "metadata": {},
   "outputs": [],
   "source": [
    "def enum_line(filename):\n",
    "    with open(filename, 'r') as f:\n",
    "        line = f.readline()\n",
    "        while line:\n",
    "            yield line\n",
    "            line = f.readline()"
   ]
  },
  {
   "cell_type": "code",
   "execution_count": 6,
   "metadata": {},
   "outputs": [
    {
     "ename": "TypeError",
     "evalue": "can only concatenate list (not \"int\") to list",
     "output_type": "error",
     "traceback": [
      "\u001b[1;31m---------------------------------------------------------------------------\u001b[0m",
      "\u001b[1;31mTypeError\u001b[0m                                 Traceback (most recent call last)",
      "\u001b[1;32m<ipython-input-6-dd10e25e2b62>\u001b[0m in \u001b[0;36m<module>\u001b[1;34m\u001b[0m\n\u001b[0;32m      3\u001b[0m \u001b[0mplt\u001b[0m\u001b[1;33m.\u001b[0m\u001b[0mfigure\u001b[0m\u001b[1;33m(\u001b[0m\u001b[0mfigsize\u001b[0m\u001b[1;33m=\u001b[0m \u001b[1;33m(\u001b[0m\u001b[1;36m12\u001b[0m\u001b[1;33m,\u001b[0m \u001b[1;36m6\u001b[0m\u001b[1;33m)\u001b[0m\u001b[1;33m)\u001b[0m\u001b[1;33m\u001b[0m\u001b[1;33m\u001b[0m\u001b[0m\n\u001b[0;32m      4\u001b[0m \u001b[0mplt\u001b[0m\u001b[1;33m.\u001b[0m\u001b[0mplot\u001b[0m\u001b[1;33m(\u001b[0m\u001b[0mlvl\u001b[0m\u001b[1;33m,\u001b[0m \u001b[0mlvl\u001b[0m\u001b[1;33m*\u001b[0m\u001b[1;36m2\u001b[0m\u001b[1;33m+\u001b[0m \u001b[1;36m100\u001b[0m\u001b[1;33m,\u001b[0m \u001b[1;34m'-o'\u001b[0m\u001b[1;33m)\u001b[0m\u001b[1;33m\u001b[0m\u001b[1;33m\u001b[0m\u001b[0m\n\u001b[1;32m----> 5\u001b[1;33m \u001b[0mplt\u001b[0m\u001b[1;33m.\u001b[0m\u001b[0mplot\u001b[0m\u001b[1;33m(\u001b[0m\u001b[0mlvl\u001b[0m\u001b[1;33m,\u001b[0m \u001b[1;36m2\u001b[0m\u001b[1;33m*\u001b[0m\u001b[1;33m(\u001b[0m\u001b[1;36m40\u001b[0m\u001b[1;33m+\u001b[0m \u001b[1;33m(\u001b[0m\u001b[0mlvl\u001b[0m\u001b[1;33m-\u001b[0m\u001b[1;36m40\u001b[0m\u001b[1;33m)\u001b[0m\u001b[1;33m*\u001b[0m\u001b[1;36m0.5\u001b[0m\u001b[1;33m)\u001b[0m\u001b[1;33m)\u001b[0m\u001b[1;33m+\u001b[0m \u001b[1;36m100\u001b[0m\u001b[1;33m\u001b[0m\u001b[1;33m\u001b[0m\u001b[0m\n\u001b[0m",
      "\u001b[1;31mTypeError\u001b[0m: can only concatenate list (not \"int\") to list"
     ]
    },
    {
     "data": {
      "image/png": "[encoded data removed]",
      "text/plain": [
       "<Figure size 864x432 with 1 Axes>"
      ]
     },
     "metadata": {
      "needs_background": "light"
     },
     "output_type": "display_data"
    }
   ],
   "source": [
    "lvl = np.arange(1, 100)\n",
    "\n",
    "plt.figure(figsize= (12, 6))\n",
    "plt.plot(lvl, lvl*2+ 100, '-o')\n",
    "plt.plot(lvl, 2*(40+ (lvl-40)*0.5))+ 100"
   ]
  },
  {
   "cell_type": "code",
   "execution_count": 3,
   "metadata": {},
   "outputs": [],
   "source": [
    "import scipy.optimize as so"
   ]
  },
  {
   "cell_type": "code",
   "execution_count": 40,
   "metadata": {},
   "outputs": [
    {
     "data": {
      "text/plain": [
       "     con: array([], dtype=float64)\n",
       "     fun: 0.07\n",
       " message: 'Optimization terminated successfully.'\n",
       "     nit: 12\n",
       "   slack: array([0.08, 0.02, 0.  , 0.  ])\n",
       "  status: 0\n",
       " success: True\n",
       "       x: array([0.  , 0.03, 0.  , 0.04])"
      ]
     },
     "execution_count": 40,
     "metadata": {},
     "output_type": "execute_result"
    }
   ],
   "source": [
    "l, d1, d2 = 1.1, 0.95, 1.05\n",
    "t1, t2 = 0.02, 0.03\n",
    "h1 = 0.02\n",
    "h2 = 0.01\n",
    "\n",
    "A_ub = np.c_[[0, 0, -1, 0], [1, -1, -1, 0], [0, 0, 0, -1], [1, -1, 0, -1]]\n",
    "b_ub = np.r_[l-d1, d2-l, -(t1+ h2), -(t2+ h2)]\n",
    "\n",
    "c = np.r_[1, 1, 1, 1]\n",
    "bounds = [(0, t1), (h1, None), (0, t2), (h1, None)]\n",
    "\n",
    "so.linprog(c, A_ub, b_ub, bounds= bounds)"
   ]
  },
  {
   "cell_type": "code",
   "execution_count": 13,
   "metadata": {},
   "outputs": [
    {
     "name": "stdout",
     "output_type": "stream",
     "text": [
      "[0.00055554 0.00130555 0.00220447]\n",
      "[0.00082116 0.00142318 0.00203932]\n",
      "[0.00082994 0.00128543 0.00170873]\n",
      "[0.00032429 0.00065345 0.00104641]\n"
     ]
    }
   ],
   "source": [
    "for i in range(4):\n",
    "    a = np.loadtxt(f'D:/programmer/private201029/data/hump{i}')\n",
    "    print(np.percentile(a, [25, 50, 75]))"
   ]
  },
  {
   "cell_type": "code",
   "execution_count": 8,
   "metadata": {},
   "outputs": [
    {
     "data": {
      "text/plain": [
       "(array([9.0875e+04, 8.2020e+04, 6.7221e+04, 5.9554e+04, 5.7573e+04,\n",
       "        5.4863e+04, 4.8251e+04, 3.6898e+04, 2.4947e+04, 1.5370e+04,\n",
       "        1.0798e+04, 8.7230e+03, 6.5140e+03, 4.2200e+03, 3.0230e+03,\n",
       "        1.9840e+03, 1.4190e+03, 1.3430e+03, 1.2140e+03, 1.0760e+03,\n",
       "        9.3600e+02, 1.0340e+03, 9.2100e+02, 8.9900e+02, 9.3700e+02,\n",
       "        8.4800e+02, 8.2700e+02, 8.6700e+02, 8.5200e+02, 7.5300e+02,\n",
       "        6.3200e+02, 5.7800e+02, 5.7900e+02, 5.5300e+02, 5.3300e+02,\n",
       "        4.8000e+02, 4.3200e+02, 3.8800e+02, 3.7400e+02, 3.3200e+02,\n",
       "        3.0300e+02, 2.4100e+02, 2.2200e+02, 2.1700e+02, 2.1900e+02,\n",
       "        2.0200e+02, 1.6000e+02, 1.2300e+02, 1.8000e+02, 1.6400e+02,\n",
       "        1.5800e+02, 1.0900e+02, 1.2400e+02, 1.3700e+02, 1.3400e+02,\n",
       "        1.0300e+02, 1.0100e+02, 1.2600e+02, 1.1200e+02, 8.8000e+01,\n",
       "        9.8000e+01, 9.7000e+01, 9.3000e+01, 7.4000e+01, 7.0000e+01,\n",
       "        9.4000e+01, 7.4000e+01, 5.5000e+01, 6.7000e+01, 7.2000e+01,\n",
       "        8.2000e+01, 5.5000e+01, 3.6000e+01, 6.2000e+01, 5.7000e+01,\n",
       "        5.0000e+01, 4.6000e+01, 4.5000e+01, 3.4000e+01, 2.9000e+01,\n",
       "        2.4000e+01, 2.4000e+01, 1.9000e+01, 5.0000e+00, 1.7000e+01,\n",
       "        1.2000e+01, 7.0000e+00, 3.0000e+00, 4.0000e+00, 5.0000e+00,\n",
       "        4.0000e+00, 0.0000e+00, 1.0000e+00, 1.0000e+00, 0.0000e+00,\n",
       "        0.0000e+00, 0.0000e+00, 1.0000e+00, 0.0000e+00, 1.0000e+00]),\n",
       " array([2.22945000e-09, 3.28564207e-04, 6.57126185e-04, 9.85688163e-04,\n",
       "        1.31425014e-03, 1.64281212e-03, 1.97137410e-03, 2.29993607e-03,\n",
       "        2.62849805e-03, 2.95706003e-03, 3.28562201e-03, 3.61418398e-03,\n",
       "        3.94274596e-03, 4.27130794e-03, 4.59986992e-03, 4.92843190e-03,\n",
       "        5.25699387e-03, 5.58555585e-03, 5.91411783e-03, 6.24267981e-03,\n",
       "        6.57124178e-03, 6.89980376e-03, 7.22836574e-03, 7.55692772e-03,\n",
       "        7.88548969e-03, 8.21405167e-03, 8.54261365e-03, 8.87117563e-03,\n",
       "        9.19973761e-03, 9.52829958e-03, 9.85686156e-03, 1.01854235e-02,\n",
       "        1.05139855e-02, 1.08425475e-02, 1.11711095e-02, 1.14996714e-02,\n",
       "        1.18282334e-02, 1.21567954e-02, 1.24853574e-02, 1.28139194e-02,\n",
       "        1.31424813e-02, 1.34710433e-02, 1.37996053e-02, 1.41281673e-02,\n",
       "        1.44567292e-02, 1.47852912e-02, 1.51138532e-02, 1.54424152e-02,\n",
       "        1.57709772e-02, 1.60995391e-02, 1.64281011e-02, 1.67566631e-02,\n",
       "        1.70852251e-02, 1.74137870e-02, 1.77423490e-02, 1.80709110e-02,\n",
       "        1.83994730e-02, 1.87280350e-02, 1.90565969e-02, 1.93851589e-02,\n",
       "        1.97137209e-02, 2.00422829e-02, 2.03708448e-02, 2.06994068e-02,\n",
       "        2.10279688e-02, 2.13565308e-02, 2.16850928e-02, 2.20136547e-02,\n",
       "        2.23422167e-02, 2.26707787e-02, 2.29993407e-02, 2.33279026e-02,\n",
       "        2.36564646e-02, 2.39850266e-02, 2.43135886e-02, 2.46421506e-02,\n",
       "        2.49707125e-02, 2.52992745e-02, 2.56278365e-02, 2.59563985e-02,\n",
       "        2.62849604e-02, 2.66135224e-02, 2.69420844e-02, 2.72706464e-02,\n",
       "        2.75992084e-02, 2.79277703e-02, 2.82563323e-02, 2.85848943e-02,\n",
       "        2.89134563e-02, 2.92420182e-02, 2.95705802e-02, 2.98991422e-02,\n",
       "        3.02277042e-02, 3.05562662e-02, 3.08848281e-02, 3.12133901e-02,\n",
       "        3.15419521e-02, 3.18705141e-02, 3.21990760e-02, 3.25276380e-02,\n",
       "        3.28562000e-02]),\n",
       " <a list of 100 Patch objects>)"
      ]
     },
     "execution_count": 8,
     "metadata": {},
     "output_type": "execute_result"
    },
    {
     "data": {
      "image/png": "[encoded data removed]",
      "text/plain": [
       "<Figure size 432x288 with 1 Axes>"
      ]
     },
     "metadata": {
      "needs_background": "light"
     },
     "output_type": "display_data"
    }
   ],
   "source": [
    "plt.hist(a, bins=100)"
   ]
  },
  {
   "cell_type": "code",
   "execution_count": 4,
   "metadata": {},
   "outputs": [],
   "source": [
    "data_path = 'D:/programmer/private201029/data/'"
   ]
  },
  {
   "cell_type": "code",
   "execution_count": 6,
   "metadata": {},
   "outputs": [],
   "source": [
    "from PIL import Image"
   ]
  },
  {
   "cell_type": "code",
   "execution_count": 7,
   "metadata": {},
   "outputs": [],
   "source": [
    " img = Image.open('E:/BaiduNetdiskDownload/3250 王曦初修（刘）（刘）/250A8923.JPG')"
   ]
  },
  {
   "cell_type": "code",
   "execution_count": 13,
   "metadata": {},
   "outputs": [],
   "source": [
    "img.save('E:/BaiduNetdiskDownload/3250 王曦初修（刘）（刘）/test.jpg', quality=30)"
   ]
  },
  {
   "cell_type": "code",
   "execution_count": 25,
   "metadata": {},
   "outputs": [
    {
     "name": "stdout",
     "output_type": "stream",
     "text": [
      "37.790236473083496 M -> 2.1283998489379883 M\n",
      "30.10137176513672 M -> 1.2589893341064453 M\n",
      "28.735655784606934 M -> 1.1693973541259766 M\n",
      "16.5086030960083 M -> 0.993260383605957 M\n",
      "28.93254852294922 M -> 1.1916303634643555 M\n",
      "30.773109436035156 M -> 1.2553863525390625 M\n",
      "27.268413543701172 M -> 0.7967138290405273 M\n",
      "11.87109088897705 M -> 0.6622915267944336 M\n",
      "26.718618392944336 M -> 0.8727941513061523 M\n",
      "22.287084579467773 M -> 0.7315387725830078 M\n",
      "19.23865032196045 M -> 0.7400379180908203 M\n",
      "23.591222763061523 M -> 0.7764606475830078 M\n",
      "11.963093757629395 M -> 0.6729707717895508 M\n",
      "14.187084197998047 M -> 0.7523355484008789 M\n",
      "28.32692241668701 M -> 0.9990510940551758 M\n",
      "17.524890899658203 M -> 1.0062999725341797 M\n",
      "15.514132499694824 M -> 0.7521648406982422 M\n",
      "36.05534553527832 M -> 1.8674077987670898 M\n",
      "18.461772918701172 M -> 0.897247314453125 M\n",
      "17.280839920043945 M -> 0.8386697769165039 M\n",
      "28.94828987121582 M -> 1.1134223937988281 M\n",
      "21.69308853149414 M -> 0.7901382446289062 M\n",
      "22.25943946838379 M -> 0.887944221496582 M\n",
      "20.382739067077637 M -> 0.7069492340087891 M\n",
      "21.285914421081543 M -> 0.7539224624633789 M\n",
      "11.821636199951172 M -> 0.5985088348388672 M\n",
      "20.933899879455566 M -> 0.7134494781494141 M\n",
      "20.793542861938477 M -> 0.6865930557250977 M\n",
      "21.331289291381836 M -> 0.7577066421508789 M\n",
      "30.68400764465332 M -> 1.5167255401611328 M\n",
      "15.664619445800781 M -> 0.5618953704833984 M\n",
      "8.503141403198242 M -> 0.6018476486206055 M\n",
      "26.02753734588623 M -> 1.0124073028564453 M\n",
      "15.569537162780762 M -> 0.7601785659790039 M\n",
      "16.70880126953125 M -> 0.7816486358642578 M\n",
      "14.789008140563965 M -> 0.7111043930053711 M\n",
      "14.446557998657227 M -> 0.6546516418457031 M\n",
      "16.13264751434326 M -> 0.927403450012207 M\n",
      "17.76973056793213 M -> 0.8922767639160156 M\n",
      "26.87374496459961 M -> 1.1871557235717773 M\n",
      "25.539098739624023 M -> 0.9614086151123047 M\n",
      "15.487794876098633 M -> 0.8112421035766602 M\n",
      "21.507668495178223 M -> 0.7832794189453125 M\n",
      "32.554391860961914 M -> 1.3818998336791992 M\n",
      "27.662593841552734 M -> 1.2461433410644531 M\n"
     ]
    }
   ],
   "source": [
    "indir = 'E:/BaiduNetdiskDownload/3250 王曦初修（刘）（刘）/'\n",
    "def convert(imgname):\n",
    "    img = Image.open(indir+ imgname)\n",
    "    img.save(indir+'out/'+ imgname, quality=20)\n",
    "    \n",
    "    insize = os.path.getsize(indir+ filename)/1024/1024\n",
    "    outsize = os.path.getsize(indir+'out/'+ imgname)/1024/1024\n",
    "    print(f'{insize} M -> {outsize} M')\n",
    "    if outsize>3:\n",
    "        print(imgname)\n",
    "    \n",
    "import os\n",
    "    \n",
    "for filename in os.listdir(indir):\n",
    "    if filename.endswith('.jpg') or filename.endswith('.JPG'):\n",
    "        convert(filename)\n",
    "        "
   ]
  },
  {
   "cell_type": "code",
   "execution_count": 21,
   "metadata": {},
   "outputs": [
    {
     "data": {
      "text/plain": [
       "37.790236473083496"
      ]
     },
     "execution_count": 21,
     "metadata": {},
     "output_type": "execute_result"
    }
   ],
   "source": [
    "os.path.getsize(indir+ filename)/1024/1024"
   ]
  },
  {
   "cell_type": "code",
   "execution_count": 5,
   "metadata": {},
   "outputs": [
    {
     "name": "stdout",
     "output_type": "stream",
     "text": [
      "0.0395592\n",
      "425/95084: 0.45%.\n"
     ]
    },
    {
     "data": {
      "text/plain": [
       "(array([8.6324e+04, 7.3160e+03, 6.7200e+02, 2.3900e+02, 1.0600e+02,\n",
       "        1.1400e+02, 1.0600e+02, 3.0000e+01, 2.0000e+01, 1.4000e+01,\n",
       "        2.5000e+01, 4.0000e+01, 1.9000e+01, 1.6000e+01, 2.0000e+01,\n",
       "        1.1000e+01, 7.0000e+00, 3.0000e+00, 1.0000e+00, 1.0000e+00]),\n",
       " array([0.        , 0.00197796, 0.00395592, 0.00593388, 0.00791184,\n",
       "        0.0098898 , 0.01186776, 0.01384572, 0.01582368, 0.01780164,\n",
       "        0.0197796 , 0.02175756, 0.02373552, 0.02571348, 0.02769144,\n",
       "        0.0296694 , 0.03164736, 0.03362532, 0.03560328, 0.03758124,\n",
       "        0.0395592 ]),\n",
       " <a list of 20 Patch objects>)"
      ]
     },
     "execution_count": 5,
     "metadata": {},
     "output_type": "execute_result"
    },
    {
     "data": {
      "image/png": "[encoded data removed]",
      "text/plain": [
       "<Figure size 432x288 with 1 Axes>"
      ]
     },
     "metadata": {
      "needs_background": "light"
     },
     "output_type": "display_data"
    }
   ],
   "source": [
    "hs = np.loadtxt(f'{data_path}{3}.txt')\n",
    "\n",
    "print(hs.max())\n",
    "b = hs[hs>0.01].shape[0]\n",
    "a = hs.shape[0]\n",
    "print(f'{b}/{a}: {b/a*100:.2f}%.')\n",
    "\n",
    "plt.hist(hs, bins=20)"
   ]
  },
  {
   "cell_type": "code",
   "execution_count": 3,
   "metadata": {},
   "outputs": [
    {
     "ename": "NameError",
     "evalue": "name '__dir__' is not defined",
     "output_type": "error",
     "traceback": [
      "\u001b[1;31m---------------------------------------------------------------------------\u001b[0m",
      "\u001b[1;31mNameError\u001b[0m                                 Traceback (most recent call last)",
      "\u001b[1;32m<ipython-input-3-1c96aef0d744>\u001b[0m in \u001b[0;36m<module>\u001b[1;34m\u001b[0m\n\u001b[1;32m----> 1\u001b[1;33m \u001b[0m__dir__\u001b[0m\u001b[1;33m\u001b[0m\u001b[1;33m\u001b[0m\u001b[0m\n\u001b[0m",
      "\u001b[1;31mNameError\u001b[0m: name '__dir__' is not defined"
     ]
    }
   ],
   "source": [
    "__dir__"
   ]
  },
  {
   "cell_type": "code",
   "execution_count": 11,
   "metadata": {},
   "outputs": [
    {
     "data": {
      "image/png": "[encoded data removed]",
      "text/latex": [
       "$$\\left ( 13141\\right )$$"
      ],
      "text/plain": [
       "(13141,)"
      ]
     },
     "execution_count": 11,
     "metadata": {},
     "output_type": "execute_result"
    }
   ],
   "source": [
    "hs.shape"
   ]
  },
  {
   "cell_type": "code",
   "execution_count": 5,
   "metadata": {},
   "outputs": [],
   "source": [
    "abcd1 = list(map(float, '0.999975 -0.00355803 -0.00614943  -0.0193468'.split()))\n",
    "abcd2 = list(map(float, '0.999786 -0.0020372 -0.0205659 -0.0212068'.split()))"
   ]
  },
  {
   "cell_type": "code",
   "execution_count": 6,
   "metadata": {},
   "outputs": [],
   "source": [
    "abcd1 = np.array(abcd1)\n",
    "abcd2 = np.array(abcd2)"
   ]
  },
  {
   "cell_type": "code",
   "execution_count": 9,
   "metadata": {},
   "outputs": [
    {
     "data": {
      "image/png": "[encoded data removed]",
      "text/latex": [
       "$$0.014497315901882022$$"
      ],
      "text/plain": [
       "0.014497315901882022"
      ]
     },
     "execution_count": 9,
     "metadata": {},
     "output_type": "execute_result"
    }
   ],
   "source": [
    "la.norm(np.cross(abcd1[:-1], abcd2[:-1]))"
   ]
  },
  {
   "cell_type": "code",
   "execution_count": 7,
   "metadata": {},
   "outputs": [
    {
     "data": {
      "image/png": "[encoded data removed]",
      "text/latex": [
       "$$2.8659839825988622$$"
      ],
      "text/plain": [
       "2.8659839825988622"
      ]
     },
     "execution_count": 7,
     "metadata": {},
     "output_type": "execute_result"
    }
   ],
   "source": [
    "math.asin(0.05)*180/ math.pi"
   ]
  },
  {
   "cell_type": "code",
   "execution_count": 9,
   "metadata": {},
   "outputs": [],
   "source": [
    "zs = np.loadtxt('D:/programmer/private201029/data/zs')"
   ]
  },
  {
   "cell_type": "code",
   "execution_count": 10,
   "metadata": {},
   "outputs": [
    {
     "data": {
      "text/plain": [
       "(array([  1.,   0.,   0.,   0.,   0.,   0.,   0.,   0.,   0.,   0.,   0.,\n",
       "          0.,   0.,   0.,   0.,   0.,   0.,   0.,   0.,   0.,   0.,   0.,\n",
       "          0.,   0.,   0.,   0.,   0.,   0.,   0.,   0.,   0.,   0.,   0.,\n",
       "          0.,   0.,   0.,   0.,   0.,   0.,   0.,   0.,   0.,   0.,   0.,\n",
       "          0.,   0.,   0.,   0.,   0.,   0.,   0.,   0.,   0.,   0.,   0.,\n",
       "          0.,   0.,   0.,   0.,   0.,   0.,   0.,   0.,   0.,   0.,   0.,\n",
       "          0.,   0.,   0.,   0.,   0.,   0.,   0.,   0.,   0.,   0.,   0.,\n",
       "          0.,   0.,   0.,   0.,   0.,   0.,   0.,   0.,   0.,   0.,   0.,\n",
       "          0.,   0.,   0.,   0., 111., 292.,  12.,  13.,  13.,  10.,   1.,\n",
       "          2.]),\n",
       " array([1.       , 1.0172279, 1.0344558, 1.0516837, 1.0689116, 1.0861395,\n",
       "        1.1033674, 1.1205953, 1.1378232, 1.1550511, 1.172279 , 1.1895069,\n",
       "        1.2067348, 1.2239627, 1.2411906, 1.2584185, 1.2756464, 1.2928743,\n",
       "        1.3101022, 1.3273301, 1.344558 , 1.3617859, 1.3790138, 1.3962417,\n",
       "        1.4134696, 1.4306975, 1.4479254, 1.4651533, 1.4823812, 1.4996091,\n",
       "        1.516837 , 1.5340649, 1.5512928, 1.5685207, 1.5857486, 1.6029765,\n",
       "        1.6202044, 1.6374323, 1.6546602, 1.6718881, 1.689116 , 1.7063439,\n",
       "        1.7235718, 1.7407997, 1.7580276, 1.7752555, 1.7924834, 1.8097113,\n",
       "        1.8269392, 1.8441671, 1.861395 , 1.8786229, 1.8958508, 1.9130787,\n",
       "        1.9303066, 1.9475345, 1.9647624, 1.9819903, 1.9992182, 2.0164461,\n",
       "        2.033674 , 2.0509019, 2.0681298, 2.0853577, 2.1025856, 2.1198135,\n",
       "        2.1370414, 2.1542693, 2.1714972, 2.1887251, 2.205953 , 2.2231809,\n",
       "        2.2404088, 2.2576367, 2.2748646, 2.2920925, 2.3093204, 2.3265483,\n",
       "        2.3437762, 2.3610041, 2.378232 , 2.3954599, 2.4126878, 2.4299157,\n",
       "        2.4471436, 2.4643715, 2.4815994, 2.4988273, 2.5160552, 2.5332831,\n",
       "        2.550511 , 2.5677389, 2.5849668, 2.6021947, 2.6194226, 2.6366505,\n",
       "        2.6538784, 2.6711063, 2.6883342, 2.7055621, 2.72279  ]),\n",
       " <a list of 100 Patch objects>)"
      ]
     },
     "execution_count": 10,
     "metadata": {},
     "output_type": "execute_result"
    },
    {
     "data": {
      "image/png": "[encoded data removed]",
      "text/plain": [
       "<Figure size 432x288 with 1 Axes>"
      ]
     },
     "metadata": {
      "needs_background": "light"
     },
     "output_type": "display_data"
    }
   ],
   "source": [
    "plt.hist(zs, 100)"
   ]
  },
  {
   "cell_type": "code",
   "execution_count": null,
   "metadata": {},
   "outputs": [],
   "source": []
  }
 ],
 "metadata": {
  "kernelspec": {
   "display_name": "Python 3",
   "language": "python",
   "name": "python3"
  },
  "language_info": {
   "codemirror_mode": {
    "name": "ipython",
    "version": 3
   },
   "file_extension": ".py",
   "mimetype": "text/x-python",
   "name": "python",
   "nbconvert_exporter": "python",
   "pygments_lexer": "ipython3",
   "version": "3.7.3"
  }
 },
 "nbformat": 4,
 "nbformat_minor": 4
}
